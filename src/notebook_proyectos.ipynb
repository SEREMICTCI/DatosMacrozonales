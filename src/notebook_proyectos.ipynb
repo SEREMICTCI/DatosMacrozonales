{
 "cells": [
  {
   "cell_type": "code",
   "execution_count": 13,
   "metadata": {},
   "outputs": [],
   "source": [
    "import numpy as np\n",
    "import pandas as pd"
   ]
  },
  {
   "cell_type": "code",
   "execution_count": 14,
   "metadata": {},
   "outputs": [],
   "source": [
    "pathIni = r\"C:\\Users\\Asesor 2\\Desktop\\Workspace\\Sources\\Seremi\\CienciaDatosSeremiMZN\"\n",
    "pathProyectos = pathIni + r\"\\input\\proyectos\\ProyectosCTCI.xlsx\"\n",
    "pathOutput = r\"H:/Mi unidad/Datos/Compilados/\"\n",
    "\n",
    "data = pd.read_excel(pathProyectos)"
   ]
  },
  {
   "cell_type": "code",
   "execution_count": 17,
   "metadata": {},
   "outputs": [],
   "source": [
    "dataMacrozona = data[\n",
    "    (data.RegionEjecucion == 'Región de Arica y Parinacota')    |\n",
    "    (data.RegionEjecucion == 'Región de Tarapacá')              |\n",
    "    (data.RegionEjecucion == 'Región de Antofagasta')           |\n",
    "    (data.RegionEjecucion == 'Región de Atacama')          \n",
    "    ]\n",
    "\n",
    "dataMacrozona = dataMacrozona[\n",
    "    dataMacrozona.Año >= 2018         \n",
    "    ]\n",
    "\n",
    "dataMacrozona['Institucion'] = dataMacrozona['Institucion'].fillna('')"
   ]
  },
  {
   "cell_type": "code",
   "execution_count": 18,
   "metadata": {},
   "outputs": [
    {
     "name": "stdout",
     "output_type": "stream",
     "text": [
      "<class 'pandas.core.frame.DataFrame'>\n",
      "Int64Index: 411 entries, 13325 to 43898\n",
      "Data columns (total 15 columns):\n",
      " #   Column            Non-Null Count  Dtype  \n",
      "---  ------            --------------  -----  \n",
      " 0   Código            411 non-null    object \n",
      " 1   Agencia           411 non-null    object \n",
      " 2   subdireccion      411 non-null    object \n",
      " 3   Instrumento       411 non-null    object \n",
      " 4   Concurso          247 non-null    object \n",
      " 5   Año               411 non-null    int64  \n",
      " 6   Titulo            411 non-null    object \n",
      " 7   RegionEjecucion   411 non-null    object \n",
      " 8   Tipo              411 non-null    object \n",
      " 9   Objetivo          159 non-null    object \n",
      " 10  Institucion       411 non-null    object \n",
      " 11  SectorEconomico   164 non-null    object \n",
      " 12  AreaConocimiento  247 non-null    object \n",
      " 13  MontoAdjudicado   393 non-null    float64\n",
      " 14  TipoBeneficiario  247 non-null    object \n",
      "dtypes: float64(1), int64(1), object(13)\n",
      "memory usage: 51.4+ KB\n",
      "None\n",
      "               Año  MontoAdjudicado\n",
      "count   411.000000     3.930000e+02\n",
      "mean   2019.024331     8.417510e+07\n",
      "std       0.957329     8.296481e+07\n",
      "min    2018.000000     1.800000e+06\n",
      "25%    2018.000000     2.959000e+07\n",
      "50%    2019.000000     6.465000e+07\n",
      "75%    2020.000000     1.044610e+08\n",
      "max    2021.000000     9.334594e+08\n"
     ]
    }
   ],
   "source": [
    "print(dataMacrozona.info())\n",
    "print(dataMacrozona.describe())\n",
    "\n",
    "dataMacrozona.to_excel(pathOutput + 'proyectosMacrozonaNorte.xlsx')\n"
   ]
  }
 ],
 "metadata": {
  "interpreter": {
   "hash": "ac59ebe37160ed0dfa835113d9b8498d9f09ceb179beaac4002f036b9467c963"
  },
  "kernelspec": {
   "display_name": "Python 3.9.6 64-bit",
   "language": "python",
   "name": "python3"
  },
  "language_info": {
   "codemirror_mode": {
    "name": "ipython",
    "version": 3
   },
   "file_extension": ".py",
   "mimetype": "text/x-python",
   "name": "python",
   "nbconvert_exporter": "python",
   "pygments_lexer": "ipython3",
   "version": "3.9.6"
  },
  "orig_nbformat": 4
 },
 "nbformat": 4,
 "nbformat_minor": 2
}
