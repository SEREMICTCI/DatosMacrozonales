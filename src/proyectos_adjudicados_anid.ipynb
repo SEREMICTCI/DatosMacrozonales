{
    "cells": [
        {
            "cell_type": "code",
            "execution_count": 88,
            "metadata": {},
            "outputs": [],
            "source": [
                "#%matploplib inline \n",
                "\n",
                "import numpy as np\n",
                "import pandas as pd\n",
                "import matplotlib.pyplot as plt\n",
                "import datetime"
            ]
        },
        {
            "cell_type": "markdown",
            "metadata": {},
            "source": [
                "\n",
                "Fuente de informacion repositorio ANID proyectos postulados 2016 a 2020\n",
                "Macrozona Norte"
            ]
        },
        {
            "cell_type": "code",
            "execution_count": 89,
            "metadata": {},
            "outputs": [
                {
                    "name": "stderr",
                    "output_type": "stream",
                    "text": [
                        "C:\\Users\\Asesor 2\\AppData\\Roaming\\Python\\Python39\\site-packages\\IPython\\core\\interactiveshell.py:3441: FutureWarning: The warn_bad_lines argument has been deprecated and will be removed in a future version.\n",
                        "\n",
                        "\n",
                        "  exec(code_obj, self.user_global_ns, self.user_ns)\n",
                        "C:\\Users\\Asesor 2\\AppData\\Roaming\\Python\\Python39\\site-packages\\IPython\\core\\interactiveshell.py:3441: FutureWarning: The error_bad_lines argument has been deprecated and will be removed in a future version.\n",
                        "\n",
                        "\n",
                        "  exec(code_obj, self.user_global_ns, self.user_ns)\n"
                    ]
                }
            ],
            "source": [
                "urlAdjudicados = 'https://raw.githubusercontent.com/ANID-GITHUB/Historico-de-Proyectos-Adjudicados/master/BDH_Proyectos.csv'\n",
                "dfAdjudicados = pd.read_csv(urlAdjudicados,sep=';',header=0,encoding = 'UTF-8',warn_bad_lines=False, error_bad_lines = False,lineterminator='\\n') # encoding = \"ISO-8859-1\""
            ]
        },
        {
            "cell_type": "markdown",
            "metadata": {},
            "source": [
                "Cambio de nombre de columnas"
            ]
        },
        {
            "cell_type": "code",
            "execution_count": 90,
            "metadata": {},
            "outputs": [
                {
                    "name": "stdout",
                    "output_type": "stream",
                    "text": [
                        "['CODIGO_PROYECTO', 'N', 'SUBDIRECCION', 'PROGRAMA_CONICYT', 'INSTRUMENTO', 'NOMBRE_CONCURSO', 'AÑO_CONCURSO', 'AÑO_FALLO', 'NOMBRE_PROYECTO', 'AREA_OCDE', 'DISCIPLINA_DETALLE', 'GRUPO_DE_EVALUACION', 'DURACION_MESES', 'TIPO_BENEFICIARIO', 'NOMBRE_RESPONSABLE', 'SEXO', 'INSTITUCION_PRINCIPAL', 'MACROZONA', 'REGION_EJECUCION', 'MONTO_ADJUDICADO', 'M$_SINFO_NOSOLICITA\\r']\n"
                    ]
                }
            ],
            "source": [
                "dfAdjudicados = dfAdjudicados.rename(columns={'MACROZONA MINCIENCIA (segUn ax)':'MACROZONA','MONTO ADJUDICADO (MILES $)':'MONTO_ADJUDICADO'})\n",
                "print(dfAdjudicados.columns.tolist())"
            ]
        },
        {
            "cell_type": "markdown",
            "metadata": {},
            "source": [
                "Construccion de dataframe por macrozona"
            ]
        },
        {
            "cell_type": "code",
            "execution_count": 91,
            "metadata": {},
            "outputs": [],
            "source": [
                "dfNorte = dfAdjudicados[['MACROZONA','REGION_EJECUCION','AÑO_CONCURSO','INSTITUCION_PRINCIPAL','TIPO_BENEFICIARIO','INSTRUMENTO','PROGRAMA_CONICYT','SEXO','MONTO_ADJUDICADO']]\n",
                "dfNorte = dfNorte.sort_values(by=['REGION_EJECUCION','AÑO_CONCURSO'])\n",
                "\n",
                "#dfNorte.to_excel('../output/proyectos_anid_adjudicados_MZN.xlsx')"
            ]
        },
        {
            "cell_type": "markdown",
            "metadata": {},
            "source": [
                "Filtros para dataframe"
            ]
        },
        {
            "cell_type": "code",
            "execution_count": 92,
            "metadata": {},
            "outputs": [],
            "source": [
                "AÑO = 2015\n",
                "\n",
                "dfNorte = dfNorte[dfNorte.MACROZONA == \"NORTE\"]\n",
                "#dfNorte = dfNorte[dfNorte.PROGRAMA_CONICYT == \"FONDEQUIP\"]\n",
                "dfNorte = dfNorte[dfNorte.AÑO_CONCURSO >= AÑO]\n",
                "\n",
                "# FILTROS PARA NORMALIZAR ADJUDICADOS Y POSTULADOS\n",
                "dfNorte = dfNorte[dfNorte.PROGRAMA_CONICYT != 'EXPLORA']\n",
                "dfNorte = dfNorte[dfNorte.PROGRAMA_CONICYT != 'PFCHA']\n",
                "dfNorte = dfNorte[dfNorte.PROGRAMA_CONICYT != 'REC']\n",
                "dfNorte = dfNorte[dfNorte.PROGRAMA_CONICYT != 'REGIONAL']\n",
                "dfNorte = dfNorte[dfNorte.PROGRAMA_CONICYT != 'FONIS']\n",
                "dfNorte = dfNorte[dfNorte.PROGRAMA_CONICYT != 'PCI']"
            ]
        },
        {
            "cell_type": "markdown",
            "metadata": {},
            "source": [
                "Adjudicaciones por región '01. TARAPACA' '02. ANTOFAGASTA' '03. ATACAMA' '15. ARICA Y PARINACOTA'"
            ]
        },
        {
            "cell_type": "code",
            "execution_count": 93,
            "metadata": {},
            "outputs": [
                {
                    "name": "stdout",
                    "output_type": "stream",
                    "text": [
                        "######################################\n",
                        "Adjudicados : 782\n",
                        "######################################\n",
                        "['FONDECYT' 'INFORMACION CIENTIFICA' 'FONDEF' 'PAI' 'PIA' 'FONDEQUIP'\n",
                        " 'ASTRONOMIA']\n",
                        "######################################\n",
                        "                        REGION_EJECUCION\n",
                        "REGION_EJECUCION                        \n",
                        "01. TARAPACA                          89\n",
                        "02. ANTOFAGASTA                      507\n",
                        "03. ATACAMA                           47\n",
                        "15. ARICA Y PARINACOTA               139\n",
                        "######################################\n"
                    ]
                },
                {
                    "data": {
                        "image/png": "[encoded data removed]",
                        "text/plain": [
                            "<Figure size 432x288 with 1 Axes>"
                        ]
                    },
                    "metadata": {
                        "needs_background": "light"
                    },
                    "output_type": "display_data"
                }
            ],
            "source": [
                "dfResult = dfNorte[['REGION_EJECUCION']].groupby([dfNorte.REGION_EJECUCION], dropna=False).count()\n",
                "\n",
                "print(\"######################################\")\n",
                "print (\"Adjudicados : \" + str(dfNorte['MACROZONA'].count()))\n",
                "print(\"######################################\")\n",
                "print(dfNorte['PROGRAMA_CONICYT'].unique())\n",
                "print(\"######################################\")\n",
                "print(dfResult)\n",
                "print(\"######################################\")\n",
                "dfResult.plot.bar()\n",
                "\n",
                "\n",
                "plt.suptitle('Proyectos postulados Macrozona Norte ' +  str(AÑO) + ' - 2020') #+ str(datetime.datetime.now().year))\n",
                "plt.ylabel('Cantidad de proyectos',fontsize=12)\n",
                "plt.xlabel('Año de Postulación',fontsize=12)\n",
                "plt.legend()\n",
                "\n",
                "plt.show()\n"
            ]
        }
    ],
    "metadata": {
        "interpreter": {
            "hash": "ac59ebe37160ed0dfa835113d9b8498d9f09ceb179beaac4002f036b9467c963"
        },
        "kernelspec": {
            "display_name": "Python 3.9.6 64-bit",
            "name": "python3"
        },
        "language_info": {
            "codemirror_mode": {
                "name": "ipython",
                "version": 3
            },
            "file_extension": ".py",
            "mimetype": "text/x-python",
            "name": "python",
            "nbconvert_exporter": "python",
            "pygments_lexer": "ipython3",
            "version": "3.9.6"
        },
        "orig_nbformat": 4
    },
    "nbformat": 4,
    "nbformat_minor": 2
}
