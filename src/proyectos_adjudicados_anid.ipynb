{
    "cells": [
        {
            "cell_type": "code",
            "execution_count": 7,
            "metadata": {},
            "outputs": [],
            "source": [
                "#%matploplib inline \n",
                "\n",
                "import numpy as np\n",
                "import pandas as pd\n",
                "import matplotlib.pyplot as plt\n",
                "import datetime"
            ]
        },
        {
            "cell_type": "markdown",
            "metadata": {},
            "source": [
                "\n",
                "Fuente de informacion repositorio ANID proyectos postulados 2016 a 2020\n",
                "Macrozona Norte"
            ]
        },
        {
            "cell_type": "code",
            "execution_count": 8,
            "metadata": {},
            "outputs": [],
            "source": [
                "urlAdjudicados = 'https://raw.githubusercontent.com/ANID-GITHUB/Historico-de-Proyectos-Adjudicados/master/BDH_Proyectos.csv'\n",
                "dfAdjudicados = pd.read_csv(urlAdjudicados,sep=';',header=0,encoding = 'UTF-8',warn_bad_lines=False, error_bad_lines = False,lineterminator='\\n') # encoding = \"ISO-8859-1\""
            ]
        },
        {
            "cell_type": "markdown",
            "metadata": {},
            "source": [
                "Cambio de nombre de columnas"
            ]
        },
        {
            "cell_type": "code",
            "execution_count": 9,
            "metadata": {},
            "outputs": [
                {
                    "name": "stdout",
                    "output_type": "stream",
                    "text": [
                        "['CODIGO_PROYECTO', 'N', 'SUBDIRECCION', 'PROGRAMA_CONICYT', 'INSTRUMENTO', 'NOMBRE_CONCURSO', 'AÑO_CONCURSO', 'AÑO_FALLO', 'NOMBRE_PROYECTO', 'AREA_OCDE', 'DISCIPLINA_DETALLE', 'GRUPO_DE_EVALUACION', 'DURACION_MESES', 'TIPO_BENEFICIARIO', 'NOMBRE_RESPONSABLE', 'SEXO', 'INSTITUCION_PRINCIPAL', 'MACROZONA', 'REGION_EJECUCION', 'MONTO_ADJUDICADO', 'M$_SINFO_NOSOLICITA\\r']\n"
                    ]
                }
            ],
            "source": [
                "dfAdjudicados = dfAdjudicados.rename(columns={'MACROZONA MINCIENCIA (segUn ax)':'MACROZONA','MONTO ADJUDICADO (MILES $)':'MONTO_ADJUDICADO'})\n",
                "print(dfAdjudicados.columns.tolist())"
            ]
        },
        {
            "cell_type": "markdown",
            "metadata": {},
            "source": [
                "Construccion de dataframe por macrozona"
            ]
        },
        {
            "cell_type": "code",
            "execution_count": 10,
            "metadata": {},
            "outputs": [
                {
                    "name": "stderr",
                    "output_type": "stream",
                    "text": [
                        "<ipython-input-10-4f7f847ff0d4>:17: FutureWarning: The default value of regex will change from True to False in a future version.\n",
                        "  dfNorte['INSTITUCION_PRINCIPAL'] = dfNorte['INSTITUCION_PRINCIPAL'].str.replace('UNIV.CATOLICA DEL NORTE','UNIVERSIDAD CATOLICA DEL NORTE')\n",
                        "<ipython-input-10-4f7f847ff0d4>:17: SettingWithCopyWarning: \n",
                        "A value is trying to be set on a copy of a slice from a DataFrame.\n",
                        "Try using .loc[row_indexer,col_indexer] = value instead\n",
                        "\n",
                        "See the caveats in the documentation: https://pandas.pydata.org/pandas-docs/stable/user_guide/indexing.html#returning-a-view-versus-a-copy\n",
                        "  dfNorte['INSTITUCION_PRINCIPAL'] = dfNorte['INSTITUCION_PRINCIPAL'].str.replace('UNIV.CATOLICA DEL NORTE','UNIVERSIDAD CATOLICA DEL NORTE')\n",
                        "<ipython-input-10-4f7f847ff0d4>:18: FutureWarning: The default value of regex will change from True to False in a future version.\n",
                        "  dfNorte['INSTITUCION_PRINCIPAL'] = dfNorte['INSTITUCION_PRINCIPAL'].str.replace('UNIV.DE ANTOFAGASTA','UNIVERSIDAD DE ANTOFAGASTA')\n",
                        "<ipython-input-10-4f7f847ff0d4>:18: SettingWithCopyWarning: \n",
                        "A value is trying to be set on a copy of a slice from a DataFrame.\n",
                        "Try using .loc[row_indexer,col_indexer] = value instead\n",
                        "\n",
                        "See the caveats in the documentation: https://pandas.pydata.org/pandas-docs/stable/user_guide/indexing.html#returning-a-view-versus-a-copy\n",
                        "  dfNorte['INSTITUCION_PRINCIPAL'] = dfNorte['INSTITUCION_PRINCIPAL'].str.replace('UNIV.DE ANTOFAGASTA','UNIVERSIDAD DE ANTOFAGASTA')\n",
                        "<ipython-input-10-4f7f847ff0d4>:19: FutureWarning: The default value of regex will change from True to False in a future version.\n",
                        "  dfNorte['INSTITUCION_PRINCIPAL'] = dfNorte['INSTITUCION_PRINCIPAL'].str.replace('UNIV.DE TARAPACA','UNIVERSIDAD DE TARAPACA')\n",
                        "<ipython-input-10-4f7f847ff0d4>:19: SettingWithCopyWarning: \n",
                        "A value is trying to be set on a copy of a slice from a DataFrame.\n",
                        "Try using .loc[row_indexer,col_indexer] = value instead\n",
                        "\n",
                        "See the caveats in the documentation: https://pandas.pydata.org/pandas-docs/stable/user_guide/indexing.html#returning-a-view-versus-a-copy\n",
                        "  dfNorte['INSTITUCION_PRINCIPAL'] = dfNorte['INSTITUCION_PRINCIPAL'].str.replace('UNIV.DE TARAPACA','UNIVERSIDAD DE TARAPACA')\n",
                        "<ipython-input-10-4f7f847ff0d4>:20: FutureWarning: The default value of regex will change from True to False in a future version.\n",
                        "  dfNorte['INSTITUCION_PRINCIPAL'] = dfNorte['INSTITUCION_PRINCIPAL'].str.replace('UNIV.ARTURO PRAT','UNIVERSIDAD ARTURO PRAT')\n",
                        "<ipython-input-10-4f7f847ff0d4>:20: SettingWithCopyWarning: \n",
                        "A value is trying to be set on a copy of a slice from a DataFrame.\n",
                        "Try using .loc[row_indexer,col_indexer] = value instead\n",
                        "\n",
                        "See the caveats in the documentation: https://pandas.pydata.org/pandas-docs/stable/user_guide/indexing.html#returning-a-view-versus-a-copy\n",
                        "  dfNorte['INSTITUCION_PRINCIPAL'] = dfNorte['INSTITUCION_PRINCIPAL'].str.replace('UNIV.ARTURO PRAT','UNIVERSIDAD ARTURO PRAT')\n",
                        "<ipython-input-10-4f7f847ff0d4>:21: FutureWarning: The default value of regex will change from True to False in a future version.\n",
                        "  dfNorte['INSTITUCION_PRINCIPAL'] = dfNorte['INSTITUCION_PRINCIPAL'].str.replace('UNIV.DE ATACAMA','UNIVERSIDAD DE ATACAMA')\n",
                        "<ipython-input-10-4f7f847ff0d4>:21: SettingWithCopyWarning: \n",
                        "A value is trying to be set on a copy of a slice from a DataFrame.\n",
                        "Try using .loc[row_indexer,col_indexer] = value instead\n",
                        "\n",
                        "See the caveats in the documentation: https://pandas.pydata.org/pandas-docs/stable/user_guide/indexing.html#returning-a-view-versus-a-copy\n",
                        "  dfNorte['INSTITUCION_PRINCIPAL'] = dfNorte['INSTITUCION_PRINCIPAL'].str.replace('UNIV.DE ATACAMA','UNIVERSIDAD DE ATACAMA')\n",
                        "<ipython-input-10-4f7f847ff0d4>:22: SettingWithCopyWarning: \n",
                        "A value is trying to be set on a copy of a slice from a DataFrame.\n",
                        "Try using .loc[row_indexer,col_indexer] = value instead\n",
                        "\n",
                        "See the caveats in the documentation: https://pandas.pydata.org/pandas-docs/stable/user_guide/indexing.html#returning-a-view-versus-a-copy\n",
                        "  dfNorte['INSTITUCION_PRINCIPAL'] = dfNorte['INSTITUCION_PRINCIPAL'].str.replace('U DE ATACAMA','UNIVERSIDAD DE ATACAMA')\n"
                    ]
                }
            ],
            "source": [
                "dfNorte = dfAdjudicados[[\n",
                "        'MACROZONA',\n",
                "        'REGION_EJECUCION',\n",
                "        'AÑO_CONCURSO',\n",
                "        'INSTITUCION_PRINCIPAL',\n",
                "        'TIPO_BENEFICIARIO',\n",
                "        'NOMBRE_RESPONSABLE',\n",
                "        'SEXO',\n",
                "        'NOMBRE_PROYECTO',\n",
                "        'INSTRUMENTO',\n",
                "        'PROGRAMA_CONICYT',\n",
                "        'AREA_OCDE',\n",
                "        'MONTO_ADJUDICADO',\n",
                "        'DURACION_MESES']]\n",
                "\n",
                "dfNorte['INSTITUCION_PRINCIPAL'] = dfNorte['INSTITUCION_PRINCIPAL'].str.replace('UNIV.CATOLICA DEL NORTE','UNIVERSIDAD CATOLICA DEL NORTE')\n",
                "dfNorte['INSTITUCION_PRINCIPAL'] = dfNorte['INSTITUCION_PRINCIPAL'].str.replace('UNIV.DE ANTOFAGASTA','UNIVERSIDAD DE ANTOFAGASTA')\n",
                "dfNorte['INSTITUCION_PRINCIPAL'] = dfNorte['INSTITUCION_PRINCIPAL'].str.replace('UNIV.DE TARAPACA','UNIVERSIDAD DE TARAPACA')\n",
                "dfNorte['INSTITUCION_PRINCIPAL'] = dfNorte['INSTITUCION_PRINCIPAL'].str.replace('UNIV.ARTURO PRAT','UNIVERSIDAD ARTURO PRAT')\n",
                "dfNorte['INSTITUCION_PRINCIPAL'] = dfNorte['INSTITUCION_PRINCIPAL'].str.replace('UNIV.DE ATACAMA','UNIVERSIDAD DE ATACAMA')\n",
                "dfNorte['INSTITUCION_PRINCIPAL'] = dfNorte['INSTITUCION_PRINCIPAL'].str.replace('U DE ATACAMA','UNIVERSIDAD DE ATACAMA')\n",
                "        \n",
                "dfNorte = dfNorte.sort_values(by=['REGION_EJECUCION','AÑO_CONCURSO'])\n",
                "\n",
                "#dfNorte.to_excel('../output/proyectos_anid_adjudicados_MZN.xlsx')"
            ]
        },
        {
            "cell_type": "markdown",
            "metadata": {},
            "source": [
                "Filtros para dataframe"
            ]
        },
        {
            "cell_type": "code",
            "execution_count": 11,
            "metadata": {},
            "outputs": [],
            "source": [
                "AÑO = 2015\n",
                "\n",
                "dfNorte = dfNorte[dfNorte.MACROZONA == \"NORTE\"]\n",
                "#dfNorte = dfNorte[dfNorte.PROGRAMA_CONICYT == \"FONDEQUIP\"]\n",
                "dfNorte = dfNorte[dfNorte.AÑO_CONCURSO >= AÑO]\n",
                "\n",
                "# FILTROS PARA NORMALIZAR ADJUDICADOS Y POSTULADOS\n",
                "# dfNorte = dfNorte[dfNorte.PROGRAMA_CONICYT != 'EXPLORA']\n",
                "# dfNorte = dfNorte[dfNorte.PROGRAMA_CONICYT != 'PFCHA']\n",
                "# dfNorte = dfNorte[dfNorte.PROGRAMA_CONICYT != 'REC']\n",
                "# dfNorte = dfNorte[dfNorte.PROGRAMA_CONICYT != 'REGIONAL']\n",
                "# dfNorte = dfNorte[dfNorte.PROGRAMA_CONICYT != 'FONIS']\n",
                "# dfNorte = dfNorte[dfNorte.PROGRAMA_CONICYT != 'PCI']\n",
                "\n",
                "dfNorte.to_excel('H:/Mi unidad/Datos/Compilados/proyectos_adjudicados_MZN.xlsx')"
            ]
        },
        {
            "cell_type": "markdown",
            "metadata": {},
            "source": [
                "Adjudicaciones por región '01. TARAPACA' '02. ANTOFAGASTA' '03. ATACAMA' '15. ARICA Y PARINACOTA'"
            ]
        },
        {
            "cell_type": "code",
            "execution_count": 12,
            "metadata": {},
            "outputs": [
                {
                    "name": "stdout",
                    "output_type": "stream",
                    "text": [
                        "######################################\n",
                        "Adjudicados : 479\n",
                        "######################################\n",
                        "['EXPLORA' 'INFORMACION CIENTIFICA' 'PAI' 'FONDECYT' 'REGIONAL' 'FONDEF'\n",
                        " 'PCI' 'FONDEQUIP' 'ASTRONOMIA' 'FONIS' 'PIA']\n",
                        "######################################\n",
                        "                        REGION_EJECUCION\n",
                        "REGION_EJECUCION                        \n",
                        "01. TARAPACA                          74\n",
                        "02. ANTOFAGASTA                      265\n",
                        "03. ATACAMA                           46\n",
                        "15. ARICA Y PARINACOTA                94\n",
                        "######################################\n"
                    ]
                },
                {
                    "data": {
                        "image/png": "[encoded data removed]",
                        "text/plain": [
                            "<Figure size 432x288 with 1 Axes>"
                        ]
                    },
                    "metadata": {
                        "needs_background": "light"
                    },
                    "output_type": "display_data"
                }
            ],
            "source": [
                "dfResult = dfNorte[['REGION_EJECUCION']].groupby([dfNorte.REGION_EJECUCION], dropna=False).count()\n",
                "\n",
                "print(\"######################################\")\n",
                "print (\"Adjudicados : \" + str(dfNorte['MACROZONA'].count()))\n",
                "print(\"######################################\")\n",
                "print(dfNorte['PROGRAMA_CONICYT'].unique())\n",
                "print(\"######################################\")\n",
                "print(dfResult)\n",
                "print(\"######################################\")\n",
                "dfResult.plot.bar()\n",
                "\n",
                "plt.suptitle('Proyectos postulados Macrozona Norte ' +  str(AÑO) + ' - 2020') #+ str(datetime.datetime.now().year))\n",
                "plt.ylabel('Cantidad de proyectos',fontsize=12)\n",
                "plt.xlabel('Año de Postulación',fontsize=12)\n",
                "plt.legend()\n",
                "\n",
                "plt.show()\n"
            ]
        }
    ],
    "metadata": {
        "interpreter": {
            "hash": "b3ba2566441a7c06988d0923437866b63cedc61552a5af99d1f4fb67d367b25f"
        },
        "kernelspec": {
            "display_name": "Python 3.8.8 64-bit ('base': conda)",
            "name": "python3"
        },
        "language_info": {
            "codemirror_mode": {
                "name": "ipython",
                "version": 3
            },
            "file_extension": ".py",
            "mimetype": "text/x-python",
            "name": "python",
            "nbconvert_exporter": "python",
            "pygments_lexer": "ipython3",
            "version": "3.8.8"
        },
        "orig_nbformat": 4
    },
    "nbformat": 4,
    "nbformat_minor": 2
}
