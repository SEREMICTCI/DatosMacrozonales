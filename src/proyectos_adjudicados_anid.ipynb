{
    "cells": [
        {
            "cell_type": "code",
            "execution_count": 191,
            "source": [
                "#%matploplib inline \r\n",
                "\r\n",
                "import numpy as np\r\n",
                "import pandas as pd\r\n",
                "import matplotlib.pyplot as plt"
            ],
            "outputs": [],
            "metadata": {}
        },
        {
            "cell_type": "markdown",
            "source": [
                "\r\n",
                "Fuente de informacion repositorio ANID proyectos postulados 2016 a 2020\r\n",
                "Macrozona Norte"
            ],
            "metadata": {}
        },
        {
            "cell_type": "code",
            "execution_count": 192,
            "source": [
                "urlAdjudicados = 'https://raw.githubusercontent.com/ANID-GITHUB/Historico-de-Proyectos-Adjudicados/master/BDH_Proyectos.csv'\r\n",
                "urlPostulados = 'https://raw.githubusercontent.com/ANID-GITHUB/Postulaciones/main/POSTULACIONES_2016_2020.csv'\r\n",
                "\r\n",
                "dfAdjudicados = pd.read_csv(urlAdjudicados,sep=';',header=0,encoding = 'UTF-8',warn_bad_lines=False, error_bad_lines = False,lineterminator='\\n') # encoding = \"ISO-8859-1\"\r\n",
                "dfPostulados = pd.read_csv(urlPostulados,sep=';',header=0,encoding = 'UTF-8',warn_bad_lines=False, error_bad_lines = False,lineterminator='\\n')"
            ],
            "outputs": [
                {
                    "output_type": "stream",
                    "name": "stderr",
                    "text": [
                        "C:\\Users\\Asesor 2\\AppData\\Roaming\\Python\\Python39\\site-packages\\IPython\\core\\interactiveshell.py:3441: FutureWarning: The warn_bad_lines argument has been deprecated and will be removed in a future version.\n",
                        "\n",
                        "\n",
                        "  exec(code_obj, self.user_global_ns, self.user_ns)\n",
                        "C:\\Users\\Asesor 2\\AppData\\Roaming\\Python\\Python39\\site-packages\\IPython\\core\\interactiveshell.py:3441: FutureWarning: The error_bad_lines argument has been deprecated and will be removed in a future version.\n",
                        "\n",
                        "\n",
                        "  exec(code_obj, self.user_global_ns, self.user_ns)\n"
                    ]
                }
            ],
            "metadata": {}
        },
        {
            "cell_type": "markdown",
            "source": [
                "Cambio de nombre de columnas"
            ],
            "metadata": {}
        },
        {
            "cell_type": "code",
            "execution_count": 193,
            "source": [
                "\r\n",
                "dfAdjudicados = dfAdjudicados.rename(columns={'MACROZONA MINCIENCIA (segUn ax)':'MACROZONA','MONTO ADJUDICADO (MILES $)':'MONTO_ADJUDICADO'})\r\n",
                "\r\n",
                "print('****************** ADJUDICADOS ******************')\r\n",
                "print(dfAdjudicados.columns.tolist())\r\n",
                "\r\n",
                "print('****************** POSTULADOS ******************')\r\n",
                "print(dfPostulados.columns.tolist())"
            ],
            "outputs": [
                {
                    "output_type": "stream",
                    "name": "stdout",
                    "text": [
                        "****************** ADJUDICADOS ******************\n",
                        "['CODIGO_PROYECTO', 'N', 'SUBDIRECCION', 'PROGRAMA_CONICYT', 'INSTRUMENTO', 'NOMBRE_CONCURSO', 'AÑO_CONCURSO', 'AÑO_FALLO', 'NOMBRE_PROYECTO', 'AREA_OCDE', 'DISCIPLINA_DETALLE', 'GRUPO_DE_EVALUACION', 'DURACION_MESES', 'TIPO_BENEFICIARIO', 'NOMBRE_RESPONSABLE', 'SEXO', 'INSTITUCION_PRINCIPAL', 'MACROZONA', 'REGION_EJECUCION', 'MONTO_ADJUDICADO', 'M$_SINFO_NOSOLICITA\\r']\n",
                        "****************** POSTULADOS ******************\n",
                        "['CODIGO DEL PROYECTO', 'SUBDIRECCION', 'PROGRAMA', 'INSTRUMENTO', 'NOMBRE DEL CONCURSO', ' MONTO TOTAL ADJUDICADO (M$) ', 'ESTADO_RESOLUCION_CONCURSO', 'DISCIPLINA OECD', 'REGION DE EJECUCION', 'TIPO DE BENEFICIARIO', 'TIPO DE INSTITUCION', 'SEXO', 'AÑO DE FALLO', 'MACRO ZONA\\r']\n"
                    ]
                }
            ],
            "metadata": {}
        },
        {
            "cell_type": "markdown",
            "source": [
                "Construccion de dataframe por macrozona"
            ],
            "metadata": {}
        },
        {
            "cell_type": "code",
            "execution_count": 194,
            "source": [
                "dfNorte = dfAdjudicados[['MACROZONA','REGION_EJECUCION','AÑO_CONCURSO','INSTITUCION_PRINCIPAL','TIPO_BENEFICIARIO','INSTRUMENTO','PROGRAMA_CONICYT','SEXO','MONTO_ADJUDICADO']]\r\n",
                "dfNorte = dfNorte.sort_values(by=['REGION_EJECUCION','AÑO_CONCURSO'])\r\n",
                "\r\n",
                "dfNorte.to_excel('../output/proyectos_anid_adjudicados_MZN.xlsx')"
            ],
            "outputs": [],
            "metadata": {}
        },
        {
            "cell_type": "markdown",
            "source": [
                "Filtros para dataframe"
            ],
            "metadata": {}
        },
        {
            "cell_type": "code",
            "execution_count": 195,
            "source": [
                "AÑO = 2010\r\n",
                "\r\n",
                "dfNorte = dfNorte[dfNorte.MACROZONA == \"NORTE\"]\r\n",
                "dfNorte = dfNorte[dfNorte.PROGRAMA_CONICYT == \"FONDEQUIP\"]\r\n",
                "dfNorte = dfNorte[dfNorte.AÑO_CONCURSO >= AÑO]"
            ],
            "outputs": [],
            "metadata": {}
        },
        {
            "cell_type": "markdown",
            "source": [
                "Adjudicaciones por región '01. TARAPACA' '02. ANTOFAGASTA' '03. ATACAMA' '15. ARICA Y PARINACOTA'"
            ],
            "metadata": {}
        },
        {
            "cell_type": "code",
            "execution_count": 196,
            "source": [
                "dfResult = dfNorte[['AÑO_CONCURSO']].groupby([dfNorte.REGION_EJECUCION,dfNorte.AÑO_CONCURSO], dropna=False).count()\r\n",
                "\r\n",
                "print (dfResult)\r\n",
                "\r\n",
                "plt.plot(dfNorte[dfNorte.REGION_EJECUCION == '01. TARAPACA'].AÑO_CONCURSO.value_counts(),linewidth=2.0,color='b',label = 'Tarapaca')\r\n",
                "plt.plot(dfNorte[dfNorte.REGION_EJECUCION == '15. ARICA Y PARINACOTA'].AÑO_CONCURSO.value_counts(),linewidth=2.0,color='r',label = 'Arica y Parinacota')\r\n",
                "plt.plot(dfNorte[dfNorte.REGION_EJECUCION == '02. ANTOFAGASTA'].AÑO_CONCURSO.value_counts(),linewidth=2.0,color='g',label = 'Antofagasta')\r\n",
                "plt.plot(dfNorte[dfNorte.REGION_EJECUCION == '03. ATACAMA'].AÑO_CONCURSO.value_counts(),linewidth=2.0,color='y',label = 'Atacama')\r\n",
                "\r\n",
                "plt.suptitle('Proyectos adjudicados 2010 a 2021')\r\n",
                "plt.ylabel('Cantidad de proyectos')\r\n",
                "plt.xlabel('Año de adjudicación')\r\n",
                "plt.legend()\r\n",
                "plt.show()\r\n"
            ],
            "outputs": [
                {
                    "output_type": "stream",
                    "name": "stdout",
                    "text": [
                        "                               AÑO_CONCURSO\n",
                        "REGION_EJECUCION AÑO_CONCURSO              \n",
                        "01. TARAPACA     2018                     1\n",
                        "                 2019                     1\n",
                        "                 2020                     1\n",
                        "02. ANTOFAGASTA  2012                     2\n",
                        "                 2013                     2\n",
                        "                 2014                     2\n",
                        "                 2015                     1\n",
                        "                 2016                     4\n",
                        "                 2018                     1\n",
                        "                 2020                     2\n",
                        "03. ATACAMA      2013                     2\n",
                        "                 2015                     2\n",
                        "                 2016                     2\n",
                        "                 2017                     1\n"
                    ]
                },
                {
                    "output_type": "display_data",
                    "data": {
                        "image/png": "[encoded data removed]",
                        "text/plain": [
                            "<Figure size 432x288 with 1 Axes>"
                        ]
                    },
                    "metadata": {
                        "needs_background": "light"
                    }
                }
            ],
            "metadata": {}
        },
        {
            "cell_type": "code",
            "execution_count": 197,
            "source": [
                "dfResult = dfNorte[['AÑO_CONCURSO']].groupby([dfNorte.INSTITUCION_PRINCIPAL,dfNorte.AÑO_CONCURSO], dropna=False).count()\r\n",
                "\r\n",
                "print (dfResult)\r\n",
                "\r\n",
                "\r\n"
            ],
            "outputs": [
                {
                    "output_type": "stream",
                    "name": "stdout",
                    "text": [
                        "                                                       AÑO_CONCURSO\n",
                        "INSTITUCION_PRINCIPAL                    AÑO_CONCURSO              \n",
                        "INSTITUTO MILENIO DE OCEANOGRAFIA        2020                     1\n",
                        "PONTIFICIA UNIVERSIDAD CATOLICA DE CHILE 2013                     1\n",
                        "UNIVERSIDAD ARTURO PRAT                  2018                     1\n",
                        "                                         2019                     1\n",
                        "UNIVERSIDAD CATOLICA DEL NORTE           2013                     1\n",
                        "                                         2014                     1\n",
                        "                                         2016                     2\n",
                        "                                         2020                     1\n",
                        "UNIVERSIDAD DE ANTOFAGASTA               2012                     2\n",
                        "                                         2013                     1\n",
                        "                                         2014                     1\n",
                        "                                         2015                     1\n",
                        "                                         2016                     2\n",
                        "                                         2018                     1\n",
                        "UNIVERSIDAD DE ATACAMA                   2013                     1\n",
                        "                                         2015                     2\n",
                        "                                         2016                     2\n",
                        "                                         2017                     1\n",
                        "UNIVERSIDAD DEL DESARROLLO               2020                     1\n"
                    ]
                }
            ],
            "metadata": {}
        }
    ],
    "metadata": {
        "orig_nbformat": 4,
        "language_info": {
            "name": "python",
            "version": "3.9.6",
            "mimetype": "text/x-python",
            "codemirror_mode": {
                "name": "ipython",
                "version": 3
            },
            "pygments_lexer": "ipython3",
            "nbconvert_exporter": "python",
            "file_extension": ".py"
        },
        "kernelspec": {
            "name": "python3",
            "display_name": "Python 3.9.6 64-bit"
        },
        "interpreter": {
            "hash": "ac59ebe37160ed0dfa835113d9b8498d9f09ceb179beaac4002f036b9467c963"
        }
    },
    "nbformat": 4,
    "nbformat_minor": 2
}