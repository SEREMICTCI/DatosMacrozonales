{
    "cells": [
        {
            "cell_type": "code",
            "execution_count": 582,
            "source": [
                "#%matploplib inline \r\n",
                "\r\n",
                "import numpy as np\r\n",
                "import pandas as pd\r\n",
                "import matplotlib.pyplot as plt"
            ],
            "outputs": [],
            "metadata": {}
        },
        {
            "cell_type": "markdown",
            "source": [
                "\r\n",
                "Fuente de informacion repositorio ANID proyectos postulados 2016 a 2020\r\n",
                "Macrozona Norte"
            ],
            "metadata": {}
        },
        {
            "cell_type": "code",
            "execution_count": 583,
            "source": [
                "urlPostulados = 'https://raw.githubusercontent.com/ANID-GITHUB/Postulaciones/main/POSTULACIONES_2016_2020.csv'\r\n",
                "\r\n",
                "dfPostulados = pd.read_csv(urlPostulados,sep=';',header=0,encoding = 'UTF-8',warn_bad_lines=False, error_bad_lines = False,lineterminator='\\n') # encoding = \"ISO-8859-1\""
            ],
            "outputs": [],
            "metadata": {}
        },
        {
            "cell_type": "markdown",
            "source": [
                "Cambio de nombre de columnas"
            ],
            "metadata": {}
        },
        {
            "cell_type": "code",
            "execution_count": 584,
            "source": [
                "dfPostulados = dfPostulados.rename(columns=\r\n",
                "    {\r\n",
                "    'NOMBRE DEL CONCURSO'           : 'NOMBRE_DEL_CONCURSO',\r\n",
                "    ' MONTO TOTAL ADJUDICADO (M$) ' : 'MONTO_ADJUDICADO',\r\n",
                "    'REGION DE EJECUCION'           : 'REGION',\r\n",
                "    'TIPO DE BENEFICIARIO'          : 'TIPO_DE_BENEFICIARIO',\r\n",
                "    'TIPO DE INSTITUCION'           : 'TIPO_DE_INSTITUCION',\r\n",
                "    'AÑO DE FALLO'                  : 'AÑO',\r\n",
                "    'MACRO ZONA\\r'                  : 'MACROZONA',\r\n",
                "    'ESTADO_RESOLUCION_CONCURSO'    : 'ESTADO_RESOLUCION'\r\n",
                "    })\r\n",
                "\r\n",
                "print('****************** POSTULADOS ******************')\r\n",
                "print(dfPostulados.columns.tolist())\r\n",
                "\r\n"
            ],
            "outputs": [
                {
                    "output_type": "stream",
                    "name": "stdout",
                    "text": [
                        "****************** POSTULADOS ******************\n",
                        "['CODIGO DEL PROYECTO', 'SUBDIRECCION', 'PROGRAMA', 'INSTRUMENTO', 'NOMBRE_DEL_CONCURSO', 'MONTO_ADJUDICADO', 'ESTADO_RESOLUCION', 'DISCIPLINA OECD', 'REGION', 'TIPO_DE_BENEFICIARIO', 'TIPO_DE_INSTITUCION', 'SEXO', 'AÑO', 'MACROZONA']\n"
                    ]
                }
            ],
            "metadata": {}
        },
        {
            "cell_type": "markdown",
            "source": [
                "Construccion de dataframe por macrozona"
            ],
            "metadata": {}
        },
        {
            "cell_type": "code",
            "execution_count": 585,
            "source": [
                "dfNorte = dfPostulados[['MACROZONA','REGION','TIPO_DE_INSTITUCION','TIPO_DE_BENEFICIARIO','AÑO', 'PROGRAMA', 'INSTRUMENTO','NOMBRE_DEL_CONCURSO','MONTO_ADJUDICADO','ESTADO_RESOLUCION']]\r\n",
                "dfNorte = dfNorte.sort_values(by=['REGION','AÑO'])\r\n",
                "\r\n",
                "dfNorte['MACROZONA'] = dfNorte['MACROZONA'].str.replace('\\r','')\r\n",
                "dfNorte['REGION'] = dfNorte['REGION'].str.replace('\\r','')\r\n",
                "\r\n",
                "dfNorte.to_excel('../output/proyectos_anid_postulados_MZN.xlsx')"
            ],
            "outputs": [],
            "metadata": {}
        },
        {
            "cell_type": "markdown",
            "source": [
                "Filtros para dataframe"
            ],
            "metadata": {}
        },
        {
            "cell_type": "code",
            "execution_count": 586,
            "source": [
                "AÑO = 2010\r\n",
                "\r\n",
                "dfNorte = dfNorte[dfNorte.MACROZONA             == \"NORTE\"]\r\n",
                "#dfNorte = dfNorte[dfNorte.PROGRAMA              == \"FONDEQUIP\"]\r\n",
                "dfNorte = dfNorte[dfNorte.TIPO_DE_INSTITUCION   == \"UNIVERSIDAD\"]\r\n",
                "dfNorte = dfNorte[dfNorte.AÑO                   >= AÑO]"
            ],
            "outputs": [],
            "metadata": {}
        },
        {
            "cell_type": "markdown",
            "source": [
                "Postulaciones por región '01. TARAPACA' '02. ANTOFAGASTA' '03. ATACAMA' '15. ARICA Y PARINACOTA'"
            ],
            "metadata": {}
        },
        {
            "cell_type": "code",
            "execution_count": 587,
            "source": [
                "dfResult = dfNorte[['AÑO']].groupby([dfNorte.REGION,dfNorte.AÑO,dfNorte.ESTADO_RESOLUCION], dropna=False).count()\r\n",
                "\r\n",
                "dfAntofagasta['AÑO'].value_counts().plot.bar        (label = 'Antofagasta'        ,color='y',position = 0.6,alpha=0.7)\r\n",
                "dfTarapaca['AÑO'].value_counts().plot.bar           (label = 'Tarapaca'           ,color='b',position = 0.4,alpha=0.7)\r\n",
                "dfAtacama['AÑO'].value_counts().plot.bar            (label = 'Atacama'            ,color='r',position = 0.2,alpha=0.7)\r\n",
                "dfAricaParinacota['AÑO'].value_counts().plot.bar    (label = 'Arica y Parinacota' ,color='g',position = 0.0,alpha=0.7)\r\n",
                "\r\n",
                "plt.suptitle('Proyectos postulados 2010 a 2021')\r\n",
                "plt.ylabel('Cantidad de proyectos',fontsize=12)\r\n",
                "plt.xlabel('Año de Postulación',fontsize=12)\r\n",
                "plt.legend()\r\n",
                "\r\n",
                "plt.show()\r\n"
            ],
            "outputs": [
                {
                    "output_type": "display_data",
                    "data": {
                        "image/png": "[encoded data removed]",
                        "text/plain": [
                            "<Figure size 432x288 with 1 Axes>"
                        ]
                    },
                    "metadata": {
                        "needs_background": "light"
                    }
                }
            ],
            "metadata": {}
        },
        {
            "cell_type": "code",
            "execution_count": 588,
            "source": [
                "dfResult = dfNorte[['AÑO']].groupby([dfNorte.REGION,dfNorte.AÑO,dfNorte.ESTADO_RESOLUCION], dropna=False).count()\r\n",
                "\r\n",
                "#print(dfResult)\r\n",
                "\r\n",
                "dfAntofagasta['AÑO'].plot.hist        (label = 'Antofagasta'        ,color='y',alpha=0.7)\r\n",
                "dfTarapaca['AÑO'].plot.hist           (label = 'Tarapaca'           ,color='b',alpha=0.7)\r\n",
                "dfAtacama['AÑO'].plot.hist            (label = 'Atacama'            ,color='r',alpha=0.7)\r\n",
                "dfAricaParinacota['AÑO'].plot.hist    (label = 'Arica y Parinacota' ,color='g',alpha=0.7)\r\n",
                "\r\n",
                "\r\n",
                "#ADJUDICADO\r\n",
                "plt.suptitle('Proyectos postulados 2010 a 2021')\r\n",
                "plt.ylabel('Cantidad de proyectos',fontsize=12)\r\n",
                "plt.xlabel('Año de Postulación',fontsize=12)\r\n",
                "plt.legend()\r\n",
                "\r\n",
                "plt.show()\r\n"
            ],
            "outputs": [
                {
                    "output_type": "error",
                    "ename": "AttributeError",
                    "evalue": "'DataFrame' object has no attribute 'ESTADO_RESOLUCION_CONCURSO'",
                    "traceback": [
                        "\u001b[1;31m---------------------------------------------------------------------------\u001b[0m",
                        "\u001b[1;31mAttributeError\u001b[0m                            Traceback (most recent call last)",
                        "\u001b[1;32mC:\\Users\\ASESOR~1\\AppData\\Local\\Temp/ipykernel_13588/1207004007.py\u001b[0m in \u001b[0;36m<module>\u001b[1;34m\u001b[0m\n\u001b[1;32m----> 1\u001b[1;33m \u001b[0mdfResult\u001b[0m \u001b[1;33m=\u001b[0m \u001b[0mdfNorte\u001b[0m\u001b[1;33m[\u001b[0m\u001b[1;33m[\u001b[0m\u001b[1;34m'AÑO'\u001b[0m\u001b[1;33m]\u001b[0m\u001b[1;33m]\u001b[0m\u001b[1;33m.\u001b[0m\u001b[0mgroupby\u001b[0m\u001b[1;33m(\u001b[0m\u001b[1;33m[\u001b[0m\u001b[0mdfNorte\u001b[0m\u001b[1;33m.\u001b[0m\u001b[0mREGION\u001b[0m\u001b[1;33m,\u001b[0m\u001b[0mdfNorte\u001b[0m\u001b[1;33m.\u001b[0m\u001b[0mAÑO\u001b[0m\u001b[1;33m,\u001b[0m\u001b[0mdfNorte\u001b[0m\u001b[1;33m.\u001b[0m\u001b[0mESTADO_RESOLUCION_CONCURSO\u001b[0m\u001b[1;33m]\u001b[0m\u001b[1;33m,\u001b[0m \u001b[0mdropna\u001b[0m\u001b[1;33m=\u001b[0m\u001b[1;32mFalse\u001b[0m\u001b[1;33m)\u001b[0m\u001b[1;33m.\u001b[0m\u001b[0mcount\u001b[0m\u001b[1;33m(\u001b[0m\u001b[1;33m)\u001b[0m\u001b[1;33m\u001b[0m\u001b[1;33m\u001b[0m\u001b[0m\n\u001b[0m\u001b[0;32m      2\u001b[0m \u001b[1;33m\u001b[0m\u001b[0m\n\u001b[0;32m      3\u001b[0m \u001b[1;31m#print(dfResult)\u001b[0m\u001b[1;33m\u001b[0m\u001b[1;33m\u001b[0m\u001b[1;33m\u001b[0m\u001b[0m\n\u001b[0;32m      4\u001b[0m \u001b[1;33m\u001b[0m\u001b[0m\n\u001b[0;32m      5\u001b[0m \u001b[0mdfAntofagasta\u001b[0m\u001b[1;33m[\u001b[0m\u001b[1;34m'AÑO'\u001b[0m\u001b[1;33m]\u001b[0m\u001b[1;33m.\u001b[0m\u001b[0mplot\u001b[0m\u001b[1;33m.\u001b[0m\u001b[0mhist\u001b[0m        \u001b[1;33m(\u001b[0m\u001b[0mlabel\u001b[0m \u001b[1;33m=\u001b[0m \u001b[1;34m'Antofagasta'\u001b[0m        \u001b[1;33m,\u001b[0m\u001b[0mcolor\u001b[0m\u001b[1;33m=\u001b[0m\u001b[1;34m'y'\u001b[0m\u001b[1;33m,\u001b[0m\u001b[0malpha\u001b[0m\u001b[1;33m=\u001b[0m\u001b[1;36m0.7\u001b[0m\u001b[1;33m)\u001b[0m\u001b[1;33m\u001b[0m\u001b[1;33m\u001b[0m\u001b[0m\n",
                        "\u001b[1;32m~\\AppData\\Roaming\\Python\\Python39\\site-packages\\pandas\\core\\generic.py\u001b[0m in \u001b[0;36m__getattr__\u001b[1;34m(self, name)\u001b[0m\n\u001b[0;32m   5476\u001b[0m         ):\n\u001b[0;32m   5477\u001b[0m             \u001b[1;32mreturn\u001b[0m \u001b[0mself\u001b[0m\u001b[1;33m[\u001b[0m\u001b[0mname\u001b[0m\u001b[1;33m]\u001b[0m\u001b[1;33m\u001b[0m\u001b[1;33m\u001b[0m\u001b[0m\n\u001b[1;32m-> 5478\u001b[1;33m         \u001b[1;32mreturn\u001b[0m \u001b[0mobject\u001b[0m\u001b[1;33m.\u001b[0m\u001b[0m__getattribute__\u001b[0m\u001b[1;33m(\u001b[0m\u001b[0mself\u001b[0m\u001b[1;33m,\u001b[0m \u001b[0mname\u001b[0m\u001b[1;33m)\u001b[0m\u001b[1;33m\u001b[0m\u001b[1;33m\u001b[0m\u001b[0m\n\u001b[0m\u001b[0;32m   5479\u001b[0m \u001b[1;33m\u001b[0m\u001b[0m\n\u001b[0;32m   5480\u001b[0m     \u001b[1;32mdef\u001b[0m \u001b[0m__setattr__\u001b[0m\u001b[1;33m(\u001b[0m\u001b[0mself\u001b[0m\u001b[1;33m,\u001b[0m \u001b[0mname\u001b[0m\u001b[1;33m:\u001b[0m \u001b[0mstr\u001b[0m\u001b[1;33m,\u001b[0m \u001b[0mvalue\u001b[0m\u001b[1;33m)\u001b[0m \u001b[1;33m->\u001b[0m \u001b[1;32mNone\u001b[0m\u001b[1;33m:\u001b[0m\u001b[1;33m\u001b[0m\u001b[1;33m\u001b[0m\u001b[0m\n",
                        "\u001b[1;31mAttributeError\u001b[0m: 'DataFrame' object has no attribute 'ESTADO_RESOLUCION_CONCURSO'"
                    ]
                }
            ],
            "metadata": {}
        }
    ],
    "metadata": {
        "orig_nbformat": 4,
        "language_info": {
            "name": "python",
            "version": "3.9.6",
            "mimetype": "text/x-python",
            "codemirror_mode": {
                "name": "ipython",
                "version": 3
            },
            "pygments_lexer": "ipython3",
            "nbconvert_exporter": "python",
            "file_extension": ".py"
        },
        "kernelspec": {
            "name": "python3",
            "display_name": "Python 3.9.6 64-bit"
        },
        "interpreter": {
            "hash": "ac59ebe37160ed0dfa835113d9b8498d9f09ceb179beaac4002f036b9467c963"
        }
    },
    "nbformat": 4,
    "nbformat_minor": 2
}